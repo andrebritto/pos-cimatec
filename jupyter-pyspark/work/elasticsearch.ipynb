{
 "cells": [
  {
   "cell_type": "code",
   "execution_count": 1,
   "metadata": {
    "scrolled": true
   },
   "outputs": [],
   "source": [
    "# !pip install -U Elasticsearch\n",
    "# !pip install csv2es"
   ]
  },
  {
   "cell_type": "code",
   "execution_count": 2,
   "metadata": {
    "scrolled": true
   },
   "outputs": [],
   "source": [
    "# pip install csv2es\n",
    "from elasticsearch import helpers, Elasticsearch\n",
    "import csv\n",
    "import csv2es"
   ]
  },
  {
   "cell_type": "code",
   "execution_count": 3,
   "metadata": {},
   "outputs": [],
   "source": [
    "from pyspark.sql import SparkSession\n",
    "spark = SparkSession.builder.master(\"local[*]\").getOrCreate()"
   ]
  },
  {
   "cell_type": "code",
   "execution_count": 4,
   "metadata": {
    "scrolled": true
   },
   "outputs": [],
   "source": [
    "df = spark.read.csv('handson_spark/DNPBA2017.csv', header=True)"
   ]
  },
  {
   "cell_type": "code",
   "execution_count": 5,
   "metadata": {},
   "outputs": [],
   "source": [
    "df = df.select(['NUMERODN', 'CODESTAB', 'IDADEMAE', 'ESCMAEAGR1']).limit(20).toPandas()"
   ]
  },
  {
   "cell_type": "code",
   "execution_count": 6,
   "metadata": {},
   "outputs": [],
   "source": [
    "# df.to_csv('DNPBA2017_es.csv', index=False)"
   ]
  },
  {
   "cell_type": "code",
   "execution_count": 28,
   "metadata": {},
   "outputs": [],
   "source": [
    "es = Elasticsearch(['http://elk:9200/'], http_compress=True)"
   ]
  },
  {
   "cell_type": "code",
   "execution_count": 8,
   "metadata": {},
   "outputs": [
    {
     "name": "stdout",
     "output_type": "stream",
     "text": [
      "{\"NUMERODN\":\"72390242\",\"CODESTAB\":\"2786095\",\"IDADEMAE\":\"25\",\"ESCMAEAGR1\":\"01\"}\n",
      "{\"NUMERODN\":\"72396320\",\"CODESTAB\":\"NA\",\"IDADEMAE\":\"20\",\"ESCMAEAGR1\":\"02\"}\n",
      "{\"NUMERODN\":\"72374657\",\"CODESTAB\":\"NA\",\"IDADEMAE\":\"20\",\"ESCMAEAGR1\":\"04\"}\n",
      "{\"NUMERODN\":\"72376065\",\"CODESTAB\":\"2755157\",\"IDADEMAE\":\"28\",\"ESCMAEAGR1\":\"06\"}\n",
      "{\"NUMERODN\":\"72392109\",\"CODESTAB\":\"7373120\",\"IDADEMAE\":\"34\",\"ESCMAEAGR1\":\"12\"}\n",
      "{\"NUMERODN\":\"72391035\",\"CODESTAB\":\"2755157\",\"IDADEMAE\":\"23\",\"ESCMAEAGR1\":\"12\"}\n",
      "{\"NUMERODN\":\"72389213\",\"CODESTAB\":\"2755157\",\"IDADEMAE\":\"30\",\"ESCMAEAGR1\":\"04\"}\n",
      "{\"NUMERODN\":\"75447854\",\"CODESTAB\":\"2755157\",\"IDADEMAE\":\"16\",\"ESCMAEAGR1\":\"04\"}\n",
      "{\"NUMERODN\":\"69747564\",\"CODESTAB\":\"2364816\",\"IDADEMAE\":\"17\",\"ESCMAEAGR1\":\"02\"}\n",
      "{\"NUMERODN\":\"69726416\",\"CODESTAB\":\"2777770\",\"IDADEMAE\":\"33\",\"ESCMAEAGR1\":\"08\"}\n",
      "{\"NUMERODN\":\"69726448\",\"CODESTAB\":\"2777770\",\"IDADEMAE\":\"33\",\"ESCMAEAGR1\":\"06\"}\n",
      "{\"NUMERODN\":\"69726554\",\"CODESTAB\":\"2777770\",\"IDADEMAE\":\"28\",\"ESCMAEAGR1\":\"06\"}\n",
      "{\"NUMERODN\":\"69726562\",\"CODESTAB\":\"2777770\",\"IDADEMAE\":\"18\",\"ESCMAEAGR1\":\"06\"}\n",
      "{\"NUMERODN\":\"69726563\",\"CODESTAB\":\"2777770\",\"IDADEMAE\":\"21\",\"ESCMAEAGR1\":\"06\"}\n",
      "{\"NUMERODN\":\"69726693\",\"CODESTAB\":\"2777770\",\"IDADEMAE\":\"34\",\"ESCMAEAGR1\":\"06\"}\n",
      "{\"NUMERODN\":\"60859490\",\"CODESTAB\":\"2668718\",\"IDADEMAE\":\"16\",\"ESCMAEAGR1\":\"06\"}\n",
      "{\"NUMERODN\":\"71680424\",\"CODESTAB\":\"2365146\",\"IDADEMAE\":\"19\",\"ESCMAEAGR1\":\"12\"}\n",
      "{\"NUMERODN\":\"71680495\",\"CODESTAB\":\"2365146\",\"IDADEMAE\":\"24\",\"ESCMAEAGR1\":\"05\"}\n",
      "{\"NUMERODN\":\"71681752\",\"CODESTAB\":\"NA\",\"IDADEMAE\":\"39\",\"ESCMAEAGR1\":\"04\"}\n",
      "{\"NUMERODN\":\"71684502\",\"CODESTAB\":\"3205282\",\"IDADEMAE\":\"35\",\"ESCMAEAGR1\":\"05\"}\n"
     ]
    }
   ],
   "source": [
    "for index, rec in df.iterrows():\n",
    "    print(rec.to_json())\n",
    "    res = es.index(index=\"test-index\", doc_type='nasc', body=rec.to_json())"
   ]
  },
  {
   "cell_type": "code",
   "execution_count": 10,
   "metadata": {},
   "outputs": [],
   "source": [
    "content = {\n",
    "    \"query\": {\n",
    "        \"term\": {\n",
    "            \"CODESTAB\": \"2786095\"\n",
    "         }\n",
    "     },\n",
    "}"
   ]
  },
  {
   "cell_type": "code",
   "execution_count": 12,
   "metadata": {},
   "outputs": [],
   "source": [
    "content = {\n",
    "    \"query\": {\n",
    "        \"range\": {\n",
    "            \"IDADEMAE\": {\n",
    "                \"gte\": 20,\n",
    "                \"lt\": 30\n",
    "            }\n",
    "        }\n",
    "    }\n",
    "}"
   ]
  },
  {
   "cell_type": "code",
   "execution_count": 14,
   "metadata": {},
   "outputs": [],
   "source": [
    "content = {\n",
    "    \"query\": {\n",
    "        \"bool\": {\n",
    "            \"must\": [\n",
    "                {\n",
    "                    \"term\": {\n",
    "                        \"IDADEMAE\": 21\n",
    "                    }\n",
    "                },\n",
    "                {\n",
    "                    \"term\": {\n",
    "                        \"ESCMAEAGR1\": \"06\"\n",
    "                    }\n",
    "                }\n",
    "            ]\n",
    "        }\n",
    "    }\n",
    "}"
   ]
  },
  {
   "cell_type": "code",
   "execution_count": 29,
   "metadata": {
    "scrolled": false
   },
   "outputs": [
    {
     "data": {
      "text/plain": [
       "{'took': 0,\n",
       " 'timed_out': False,\n",
       " '_shards': {'total': 1, 'successful': 1, 'skipped': 0, 'failed': 0},\n",
       " 'hits': {'total': {'value': 1, 'relation': 'eq'},\n",
       "  'max_score': 3.6686769,\n",
       "  'hits': [{'_index': 'test-index',\n",
       "    '_type': 'nasc',\n",
       "    '_id': '1gVuzW8BYV5JYeU8EmXr',\n",
       "    '_score': 3.6686769,\n",
       "    '_source': {'NUMERODN': '69726563',\n",
       "     'CODESTAB': '2777770',\n",
       "     'IDADEMAE': '21',\n",
       "     'ESCMAEAGR1': '06'}}]}}"
      ]
     },
     "execution_count": 29,
     "metadata": {},
     "output_type": "execute_result"
    }
   ],
   "source": [
    "es.search(index=\"test-index\", body=content)"
   ]
  },
  {
   "cell_type": "code",
   "execution_count": 23,
   "metadata": {},
   "outputs": [],
   "source": [
    "def buscaExata(numerodn, codestab, idademae, escmaeagr1, startId=0): \n",
    "    \n",
    "    global es\n",
    "    \n",
    "    content = {\n",
    "        'size': 30,\n",
    "        'query': {\n",
    "            'bool': {\n",
    "                'must': [\n",
    "                    {'match_phrase': {'NUMERODN': '\"' + numerodn + '\"'}},\n",
    "                    {'match_phrase': {'CODESTAB': '\"' + codestab + '\"'}}, \n",
    "                    {'match': {'IDADEMAE': idademae}},\n",
    "                    {'match': {'ESCMAEAGR1': escmaeagr1}}\n",
    "                ]\n",
    "            }\n",
    "        }\n",
    "    }\n",
    "    force = True\n",
    "    while force:\n",
    "        try:\n",
    "            res = es.search(index=\"test-index\", body=content)\n",
    "            force = False\n",
    "        except:\n",
    "            pass\n",
    "    return res['hits']['hits']"
   ]
  },
  {
   "cell_type": "code",
   "execution_count": 24,
   "metadata": {},
   "outputs": [],
   "source": [
    "def buscaAproximada(numerodn, codestab, idademae, escmaeagr1, startId=0):\n",
    "    \n",
    "    global es\n",
    "    \n",
    "    content = {\n",
    "        'size': 100,\n",
    "        'query': {\n",
    "            'bool': {\n",
    "                'should': [\n",
    "                    {'match': {'NUMERODN': {'query': numerodn, 'fuzziness':'AUTO', 'operator':'or', 'boost':'2'}}},\n",
    "                    {'match': {'CODESTAB': {'query': codestab, 'fuzziness':'AUTO', 'operator':'or', 'boost':'2'}}},\n",
    "                    {'match': {'IDADEMAE': {'query': idademae, 'fuzziness':'AUTO', 'operator':'or', 'boost':'0.5'}}},\n",
    "                    {'match': {'ESCMAEAGR1': {'query': escmaeagr1, 'fuzziness':'AUTO', 'operator':'or'}}}\n",
    "                ]\n",
    "            }\n",
    "        }\n",
    "    }\n",
    "    force = True\n",
    "    while force:\n",
    "        try:\n",
    "            res = es.search(index=\"test-index\", body=content)\n",
    "            force = False\n",
    "        except:\n",
    "            pass\n",
    "    return res['hits']['hits']"
   ]
  },
  {
   "cell_type": "code",
   "execution_count": 25,
   "metadata": {
    "scrolled": true
   },
   "outputs": [
    {
     "data": {
      "text/plain": [
       "[{'_index': 'test-index',\n",
       "  '_type': 'nasc',\n",
       "  '_id': 'yQVuzW8BYV5JYeU8D2WH',\n",
       "  '_score': 10.55623,\n",
       "  '_source': {'NUMERODN': '72390242',\n",
       "   'CODESTAB': '2786095',\n",
       "   'IDADEMAE': '25',\n",
       "   'ESCMAEAGR1': '01'}}]"
      ]
     },
     "execution_count": 25,
     "metadata": {},
     "output_type": "execute_result"
    }
   ],
   "source": [
    "buscaExata(\"72390242\", \"2786095\", \"25\", \"01\")"
   ]
  },
  {
   "cell_type": "code",
   "execution_count": 19,
   "metadata": {
    "scrolled": true
   },
   "outputs": [
    {
     "data": {
      "text/plain": [
       "[]"
      ]
     },
     "execution_count": 19,
     "metadata": {},
     "output_type": "execute_result"
    }
   ],
   "source": [
    "buscaExata(\"72390242\", \"2786095\", \"33\", \"01\")"
   ]
  },
  {
   "cell_type": "code",
   "execution_count": 20,
   "metadata": {
    "scrolled": true
   },
   "outputs": [
    {
     "data": {
      "text/plain": [
       "[{'_index': 'my-index',\n",
       "  '_type': 'my-type',\n",
       "  '_id': '3QVuzW8BYV5JYeU8GWXV',\n",
       "  '_score': 14.514815,\n",
       "  '_source': {'NUMERODN': '72390242',\n",
       "   'CODESTAB': '2786095',\n",
       "   'IDADEMAE': '25',\n",
       "   'ESCMAEAGR1': '01'}}]"
      ]
     },
     "execution_count": 20,
     "metadata": {},
     "output_type": "execute_result"
    }
   ],
   "source": [
    "buscaAproximada(\"72390242\", \"2786095\", \"25\", \"01\")"
   ]
  },
  {
   "cell_type": "code",
   "execution_count": 21,
   "metadata": {},
   "outputs": [
    {
     "data": {
      "text/plain": [
       "[{'_index': 'my-index',\n",
       "  '_type': 'my-type',\n",
       "  '_id': '3QVuzW8BYV5JYeU8GWXV',\n",
       "  '_score': 13.195287,\n",
       "  '_source': {'NUMERODN': '72390242',\n",
       "   'CODESTAB': '2786095',\n",
       "   'IDADEMAE': '25',\n",
       "   'ESCMAEAGR1': '01'}},\n",
       " {'_index': 'my-index',\n",
       "  '_type': 'my-type',\n",
       "  '_id': '5gVuzW8BYV5JYeU8GWXV',\n",
       "  '_score': 1.0641159,\n",
       "  '_source': {'NUMERODN': '69726416',\n",
       "   'CODESTAB': '2777770',\n",
       "   'IDADEMAE': '33',\n",
       "   'ESCMAEAGR1': '08'}},\n",
       " {'_index': 'my-index',\n",
       "  '_type': 'my-type',\n",
       "  '_id': '5wVuzW8BYV5JYeU8GWXV',\n",
       "  '_score': 1.0641159,\n",
       "  '_source': {'NUMERODN': '69726448',\n",
       "   'CODESTAB': '2777770',\n",
       "   'IDADEMAE': '33',\n",
       "   'ESCMAEAGR1': '06'}}]"
      ]
     },
     "execution_count": 21,
     "metadata": {},
     "output_type": "execute_result"
    }
   ],
   "source": [
    "buscaAproximada(\"72390242\", \"2786095\", \"33\", \"01\")"
   ]
  }
 ],
 "metadata": {
  "kernelspec": {
   "display_name": "Python 3",
   "language": "python",
   "name": "python3"
  },
  "language_info": {
   "codemirror_mode": {
    "name": "ipython",
    "version": 3
   },
   "file_extension": ".py",
   "mimetype": "text/x-python",
   "name": "python",
   "nbconvert_exporter": "python",
   "pygments_lexer": "ipython3",
   "version": "3.7.3"
  }
 },
 "nbformat": 4,
 "nbformat_minor": 2
}
